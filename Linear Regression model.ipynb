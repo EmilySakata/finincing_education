{
 "cells": [
  {
   "cell_type": "code",
   "execution_count": 192,
   "metadata": {
    "collapsed": false
   },
   "outputs": [
    {
     "name": "stdout",
     "output_type": "stream",
     "text": [
      "Requirement already satisfied: sklearn in /Users/milliemillie/anaconda/lib/python3.6/site-packages\r\n",
      "Requirement already satisfied: scikit-learn in /Users/milliemillie/anaconda/lib/python3.6/site-packages (from sklearn)\r\n"
     ]
    }
   ],
   "source": [
    "!pip3 install sklearn"
   ]
  },
  {
   "cell_type": "code",
   "execution_count": 193,
   "metadata": {
    "collapsed": true
   },
   "outputs": [],
   "source": [
    "%matplotlib inline\n",
    "import matplotlib.pyplot as plt\n",
    "import numpy as np\n",
    "import pandas as pd"
   ]
  },
  {
   "cell_type": "code",
   "execution_count": 194,
   "metadata": {
    "collapsed": false
   },
   "outputs": [
    {
     "data": {
      "text/html": [
       "<div>\n",
       "<table border=\"1\" class=\"dataframe\">\n",
       "  <thead>\n",
       "    <tr style=\"text-align: right;\">\n",
       "      <th></th>\n",
       "      <th>Year</th>\n",
       "      <th>Public</th>\n",
       "      <th>Private</th>\n",
       "    </tr>\n",
       "  </thead>\n",
       "  <tbody>\n",
       "    <tr>\n",
       "      <th>0</th>\n",
       "      <td>2026</td>\n",
       "      <td>16.64</td>\n",
       "      <td>5.99</td>\n",
       "    </tr>\n",
       "    <tr>\n",
       "      <th>1</th>\n",
       "      <td>2025</td>\n",
       "      <td>16.54</td>\n",
       "      <td>5.96</td>\n",
       "    </tr>\n",
       "    <tr>\n",
       "      <th>2</th>\n",
       "      <td>2024</td>\n",
       "      <td>16.41</td>\n",
       "      <td>5.93</td>\n",
       "    </tr>\n",
       "    <tr>\n",
       "      <th>3</th>\n",
       "      <td>2023</td>\n",
       "      <td>16.25</td>\n",
       "      <td>5.87</td>\n",
       "    </tr>\n",
       "    <tr>\n",
       "      <th>4</th>\n",
       "      <td>2022</td>\n",
       "      <td>16.08</td>\n",
       "      <td>5.81</td>\n",
       "    </tr>\n",
       "  </tbody>\n",
       "</table>\n",
       "</div>"
      ],
      "text/plain": [
       "   Year  Public  Private\n",
       "0  2026   16.64     5.99\n",
       "1  2025   16.54     5.96\n",
       "2  2024   16.41     5.93\n",
       "3  2023   16.25     5.87\n",
       "4  2022   16.08     5.81"
      ]
     },
     "execution_count": 194,
     "metadata": {},
     "output_type": "execute_result"
    }
   ],
   "source": [
    "# Import the data to use it for machine learning\n",
    "\n",
    "#read csv file\n",
    "data = \"Enrollment_publicVSPrivate_1965-2026.csv\"\n",
    "df = pd.read_csv(data, encoding = \"ISO-8859-1\")\n",
    "df.head()\n"
   ]
  },
  {
   "cell_type": "code",
   "execution_count": 195,
   "metadata": {
    "collapsed": false
   },
   "outputs": [],
   "source": [
    "# Historical data was until 2015. For machine learning, use up to 2015 data. Drop the projected data\n",
    "df1=df.drop(df.index[:11])"
   ]
  },
  {
   "cell_type": "code",
   "execution_count": 196,
   "metadata": {
    "collapsed": false
   },
   "outputs": [
    {
     "data": {
      "text/plain": [
       "LinearRegression(copy_X=True, fit_intercept=True, n_jobs=1, normalize=False)"
      ]
     },
     "execution_count": 196,
     "metadata": {},
     "output_type": "execute_result"
    }
   ],
   "source": [
    "from sklearn.linear_model import LinearRegression\n",
    "model = LinearRegression()\n",
    "model"
   ]
  },
  {
   "cell_type": "code",
   "execution_count": 197,
   "metadata": {
    "collapsed": true
   },
   "outputs": [],
   "source": [
    "X = df1.Year.values.reshape(-1, 1)\n",
    "y = df1.Public.values.reshape(-1, 1)"
   ]
  },
  {
   "cell_type": "code",
   "execution_count": 198,
   "metadata": {
    "collapsed": false
   },
   "outputs": [
    {
     "name": "stdout",
     "output_type": "stream",
     "text": [
      "LinearRegression(copy_X=True, fit_intercept=True, n_jobs=1, normalize=False)\n"
     ]
    }
   ],
   "source": [
    "model.fit(X, y)\n",
    "print(model)"
   ]
  },
  {
   "cell_type": "code",
   "execution_count": 199,
   "metadata": {
    "collapsed": false
   },
   "outputs": [
    {
     "name": "stdout",
     "output_type": "stream",
     "text": [
      "Weight coefficients:  [[ 0.19261629]]\n",
      "y-axis intercept:  [-372.83288688]\n"
     ]
    }
   ],
   "source": [
    "print('Weight coefficients: ', model.coef_)\n",
    "print('y-axis intercept: ', model.intercept_) "
   ]
  },
  {
   "cell_type": "code",
   "execution_count": 200,
   "metadata": {
    "collapsed": false
   },
   "outputs": [
    {
     "name": "stdout",
     "output_type": "stream",
     "text": [
      "True output: [ 14.57], Predicted output: [ 15.28893665], Prediction Error: [ 0.71893665]\n"
     ]
    }
   ],
   "source": [
    "predictions = model.predict(X)\n",
    "print(f\"True output: {y[0]}, Predicted output: {predictions[0]}, Prediction Error: {predictions[0]-y[0]}\")"
   ]
  },
  {
   "cell_type": "code",
   "execution_count": 201,
   "metadata": {
    "collapsed": true
   },
   "outputs": [],
   "source": [
    "x_min = X.min()\n",
    "x_max = X.max()"
   ]
  },
  {
   "cell_type": "code",
   "execution_count": 202,
   "metadata": {
    "collapsed": true
   },
   "outputs": [],
   "source": [
    "# Use the coefficient derived to plot y min and max"
   ]
  },
  {
   "cell_type": "code",
   "execution_count": 203,
   "metadata": {
    "collapsed": false
   },
   "outputs": [],
   "source": [
    "y_min = -372.83288688 + 0.19261629 * x_min\n",
    "y_max = -372.83288688 + 0.19261629 * x_max\n",
    "\n"
   ]
  },
  {
   "cell_type": "code",
   "execution_count": 204,
   "metadata": {
    "collapsed": false
   },
   "outputs": [
    {
     "name": "stdout",
     "output_type": "stream",
     "text": [
      "3.97 5.65812297 15.14 15.28893747\n"
     ]
    }
   ],
   "source": [
    "y_min_actual = y.min()\n",
    "y_max_actual = y.max()\n",
    "print(y_min_actual, y_min, y_max_actual, y_max)"
   ]
  },
  {
   "cell_type": "code",
   "execution_count": 205,
   "metadata": {
    "collapsed": false
   },
   "outputs": [
    {
     "data": {
      "image/png": "[encoded data removed]",
      "text/plain": [
       "<matplotlib.figure.Figure at 0x112a87a58>"
      ]
     },
     "metadata": {},
     "output_type": "display_data"
    }
   ],
   "source": [
    "plt.scatter(X, y, c='blue', label='actial')\n",
    "plt.plot([x_min, x_max], [y_min, y_max], c='red', label='Linear Regression model')\n",
    "plt.title('College enrollment population from 1965 - 2015')\n",
    "plt.xlabel('Year')\n",
    "plt.ylabel('Populaiton (Million)')\n",
    "\n",
    "plt.legend()\n",
    "plt.tight_layout()\n",
    "plt.show()"
   ]
  },
  {
   "cell_type": "code",
   "execution_count": 206,
   "metadata": {
    "collapsed": false
   },
   "outputs": [
    {
     "name": "stdout",
     "output_type": "stream",
     "text": [
      "0.408892701446 0.951595725635\n"
     ]
    }
   ],
   "source": [
    "from sklearn.metrics import mean_squared_error, r2_score\n",
    "predicted = model.predict(X)\n",
    "mse = mean_squared_error(y, predicted)\n",
    "r2 = r2_score(y, predicted)\n",
    "\n",
    "print(mse, r2)"
   ]
  },
  {
   "cell_type": "code",
   "execution_count": 207,
   "metadata": {
    "collapsed": true
   },
   "outputs": [],
   "source": [
    "# r2 value: Best possible score is 1.0 and it can be negative (because the model can be arbitrarily worse). \n",
    "#     A constant model that always predicts the expected value of y, disregarding the input features, \n",
    "#     would get a R^2 score of 0.0.\n"
   ]
  },
  {
   "cell_type": "code",
   "execution_count": 208,
   "metadata": {
    "collapsed": false
   },
   "outputs": [
    {
     "data": {
      "text/plain": [
       "0.95159572563450734"
      ]
     },
     "execution_count": 208,
     "metadata": {},
     "output_type": "execute_result"
    }
   ],
   "source": [
    "model.score(X, y)"
   ]
  },
  {
   "cell_type": "code",
   "execution_count": 209,
   "metadata": {
    "collapsed": false
   },
   "outputs": [
    {
     "data": {
      "text/plain": [
       "LinearRegression(copy_X=True, fit_intercept=True, n_jobs=1, normalize=False)"
      ]
     },
     "execution_count": 209,
     "metadata": {},
     "output_type": "execute_result"
    }
   ],
   "source": [
    "# Plot private school enrollment\n",
    "\n",
    "from sklearn.linear_model import LinearRegression\n",
    "model2 = LinearRegression()\n",
    "model2"
   ]
  },
  {
   "cell_type": "code",
   "execution_count": 210,
   "metadata": {
    "collapsed": true
   },
   "outputs": [],
   "source": [
    "X = df1.Year.values.reshape(-1, 1)\n",
    "y2 = df1.Private.values.reshape(-1, 1)"
   ]
  },
  {
   "cell_type": "code",
   "execution_count": 211,
   "metadata": {
    "collapsed": false
   },
   "outputs": [
    {
     "name": "stdout",
     "output_type": "stream",
     "text": [
      "LinearRegression(copy_X=True, fit_intercept=True, n_jobs=1, normalize=False)\n"
     ]
    }
   ],
   "source": [
    "model2.fit(X, y2)\n",
    "print(model2)"
   ]
  },
  {
   "cell_type": "code",
   "execution_count": 212,
   "metadata": {
    "collapsed": false
   },
   "outputs": [
    {
     "name": "stdout",
     "output_type": "stream",
     "text": [
      "Weight coefficients:  [[ 0.07490317]]\n",
      "y-axis intercept:  [-145.70279336]\n"
     ]
    }
   ],
   "source": [
    "print('Weight coefficients: ', model2.coef_)\n",
    "print('y-axis intercept: ', model2.intercept_) "
   ]
  },
  {
   "cell_type": "code",
   "execution_count": 213,
   "metadata": {
    "collapsed": false
   },
   "outputs": [
    {
     "name": "stdout",
     "output_type": "stream",
     "text": [
      "True output: [ 14.57], Predicted output: [ 5.22708899], Prediction Error: [-9.34291101]\n"
     ]
    }
   ],
   "source": [
    "predictions = model2.predict(X)\n",
    "print(f\"True output: {y[0]}, Predicted output: {predictions[0]}, Prediction Error: {predictions[0]-y[0]}\")"
   ]
  },
  {
   "cell_type": "code",
   "execution_count": 214,
   "metadata": {
    "collapsed": true
   },
   "outputs": [],
   "source": [
    "y2_min = -145.70279336 + 0.07490317 * x_min\n",
    "y2_max = -145.70279336 + 0.07490317 * x_max"
   ]
  },
  {
   "cell_type": "code",
   "execution_count": 215,
   "metadata": {
    "collapsed": false
   },
   "outputs": [
    {
     "name": "stdout",
     "output_type": "stream",
     "text": [
      "1.95 1.48193569 5.89 5.22709419\n"
     ]
    }
   ],
   "source": [
    "y2_min_actual = y2.min()\n",
    "y2_max_actual = y2.max()\n",
    "print(y2_min_actual, y2_min, y2_max_actual, y2_max)"
   ]
  },
  {
   "cell_type": "code",
   "execution_count": 244,
   "metadata": {
    "collapsed": false
   },
   "outputs": [
    {
     "name": "stdout",
     "output_type": "stream",
     "text": [
      "0.408892701446 0.951595725635\n"
     ]
    }
   ],
   "source": [
    "from sklearn.metrics import mean_squared_error, r2_score\n",
    "predicted2 = model2.predict(X)\n",
    "mse_private = mean_squared_error(y2, predicted2)\n",
    "r2_private = r2_score(y2, predicted2)\n",
    "\n",
    "print(mse, r2)"
   ]
  },
  {
   "cell_type": "code",
   "execution_count": 245,
   "metadata": {
    "collapsed": false
   },
   "outputs": [
    {
     "data": {
      "image/png": "[encoded data removed]",
      "text/plain": [
       "<matplotlib.figure.Figure at 0x112843be0>"
      ]
     },
     "metadata": {},
     "output_type": "display_data"
    }
   ],
   "source": [
    "plt.scatter(X, y2, c='green', label='private')\n",
    "plt.scatter(X, y, c='blue', label='public')\n",
    "plt.plot([x_min, x_max], [y2_min, y2_max], c='red', label='Linear Regression model')\n",
    "plt.plot([x_min, x_max], [y_min, y_max], c='red')\n",
    "plt.title('College enrollment population from 1965 - 2015')\n",
    "plt.xlabel('Year')\n",
    "plt.ylabel('Populaiton (Million)')\n",
    "\n",
    "plt.legend()\n",
    "plt.tight_layout()\n",
    "plt.show()"
   ]
  },
  {
   "cell_type": "code",
   "execution_count": 246,
   "metadata": {
    "collapsed": false
   },
   "outputs": [],
   "source": [
    "# Use our regression model to calculate the pridictive values until 2026\n",
    "\n",
    "columns = ['Year','Public_model', 'Private_model']\n",
    "df2 = pd.DataFrame(columns=columns)\n",
    "\n",
    "for x in range(0,11):\n",
    "    year = 2016 + x\n",
    "    public =  -372.83288688 + 0.19261629 * year\n",
    "    private = -145.70279336 + 0.07490317 *year\n",
    "    df2.loc[-1] = [year, public, private]\n",
    "    df2.index = df2.index + 1 \n",
    "    df2 = df2.sort_index() "
   ]
  },
  {
   "cell_type": "code",
   "execution_count": 247,
   "metadata": {
    "collapsed": false
   },
   "outputs": [
    {
     "data": {
      "text/html": [
       "<div>\n",
       "<table border=\"1\" class=\"dataframe\">\n",
       "  <thead>\n",
       "    <tr style=\"text-align: right;\">\n",
       "      <th></th>\n",
       "      <th>Year</th>\n",
       "      <th>Public_model</th>\n",
       "      <th>Private_model</th>\n",
       "    </tr>\n",
       "  </thead>\n",
       "  <tbody>\n",
       "    <tr>\n",
       "      <th>0</th>\n",
       "      <td>2026.0</td>\n",
       "      <td>17.407717</td>\n",
       "      <td>6.051029</td>\n",
       "    </tr>\n",
       "    <tr>\n",
       "      <th>1</th>\n",
       "      <td>2025.0</td>\n",
       "      <td>17.215100</td>\n",
       "      <td>5.976126</td>\n",
       "    </tr>\n",
       "    <tr>\n",
       "      <th>2</th>\n",
       "      <td>2024.0</td>\n",
       "      <td>17.022484</td>\n",
       "      <td>5.901223</td>\n",
       "    </tr>\n",
       "    <tr>\n",
       "      <th>3</th>\n",
       "      <td>2023.0</td>\n",
       "      <td>16.829868</td>\n",
       "      <td>5.826320</td>\n",
       "    </tr>\n",
       "    <tr>\n",
       "      <th>4</th>\n",
       "      <td>2022.0</td>\n",
       "      <td>16.637251</td>\n",
       "      <td>5.751416</td>\n",
       "    </tr>\n",
       "  </tbody>\n",
       "</table>\n",
       "</div>"
      ],
      "text/plain": [
       "     Year  Public_model  Private_model\n",
       "0  2026.0     17.407717       6.051029\n",
       "1  2025.0     17.215100       5.976126\n",
       "2  2024.0     17.022484       5.901223\n",
       "3  2023.0     16.829868       5.826320\n",
       "4  2022.0     16.637251       5.751416"
      ]
     },
     "execution_count": 247,
     "metadata": {},
     "output_type": "execute_result"
    }
   ],
   "source": [
    "df2.head()\n"
   ]
  },
  {
   "cell_type": "code",
   "execution_count": 248,
   "metadata": {
    "collapsed": false
   },
   "outputs": [
    {
     "data": {
      "text/html": [
       "<div>\n",
       "<table border=\"1\" class=\"dataframe\">\n",
       "  <thead>\n",
       "    <tr style=\"text-align: right;\">\n",
       "      <th></th>\n",
       "      <th>Year</th>\n",
       "      <th>Public</th>\n",
       "      <th>Private</th>\n",
       "    </tr>\n",
       "  </thead>\n",
       "  <tbody>\n",
       "    <tr>\n",
       "      <th>0</th>\n",
       "      <td>2026</td>\n",
       "      <td>16.64</td>\n",
       "      <td>5.99</td>\n",
       "    </tr>\n",
       "    <tr>\n",
       "      <th>1</th>\n",
       "      <td>2025</td>\n",
       "      <td>16.54</td>\n",
       "      <td>5.96</td>\n",
       "    </tr>\n",
       "    <tr>\n",
       "      <th>2</th>\n",
       "      <td>2024</td>\n",
       "      <td>16.41</td>\n",
       "      <td>5.93</td>\n",
       "    </tr>\n",
       "    <tr>\n",
       "      <th>3</th>\n",
       "      <td>2023</td>\n",
       "      <td>16.25</td>\n",
       "      <td>5.87</td>\n",
       "    </tr>\n",
       "    <tr>\n",
       "      <th>4</th>\n",
       "      <td>2022</td>\n",
       "      <td>16.08</td>\n",
       "      <td>5.81</td>\n",
       "    </tr>\n",
       "  </tbody>\n",
       "</table>\n",
       "</div>"
      ],
      "text/plain": [
       "   Year  Public  Private\n",
       "0  2026   16.64     5.99\n",
       "1  2025   16.54     5.96\n",
       "2  2024   16.41     5.93\n",
       "3  2023   16.25     5.87\n",
       "4  2022   16.08     5.81"
      ]
     },
     "execution_count": 248,
     "metadata": {},
     "output_type": "execute_result"
    }
   ],
   "source": [
    "df3 = df.drop(df.index[11:])\n",
    "df3.head()"
   ]
  },
  {
   "cell_type": "code",
   "execution_count": 257,
   "metadata": {
    "collapsed": false
   },
   "outputs": [
    {
     "data": {
      "image/png": "[encoded data removed]",
      "text/plain": [
       "<matplotlib.figure.Figure at 0x112f91828>"
      ]
     },
     "metadata": {},
     "output_type": "display_data"
    }
   ],
   "source": [
    "# Compare the original prediction vs our prediction\n",
    " \n",
    "# data to plot\n",
    "n_groups = 11\n",
    "public = df3[\"Public\"]\n",
    "private = df3[\"Private\"]\n",
    "predicted1 = df2[\"Public_model\"]\n",
    "predicted2 = df2[\"Private_model\"]\n",
    "\n",
    " \n",
    "    \n",
    "# f, axarr = plt.subplots(2, sharex=True)\n",
    "# axarr[0].plot(x, y)\n",
    "# axarr[0].set_title('Sharing X axis')\n",
    "# axarr[1].scatter(x, y)\n",
    "\n",
    "# create plot\n",
    "fig, (ax1, ax2) = plt.subplots(2, sharex = True)\n",
    "index = np.arange(n_groups)\n",
    "bar_width = 0.35\n",
    "opacity = 0.8\n",
    " \n",
    "rects1 = ax1.bar(index, public, bar_width,\n",
    "                 alpha=opacity,\n",
    "                 color='#624ea7',\n",
    "                 label='public')\n",
    "rects2 = ax2.bar(index, private, bar_width,\n",
    "                 alpha=opacity,\n",
    "                 color='#4ea78f',\n",
    "                 label='private')\n",
    " \n",
    "rects3 = ax1.bar(index + bar_width, predicted1, bar_width,\n",
    "                 alpha=opacity,\n",
    "                 color='#b0a6d3',\n",
    "                 label='public_predicted')\n",
    "rects4 = ax2.bar(index + bar_width, predicted2, bar_width,\n",
    "                 alpha=opacity,\n",
    "                 color='#b8dbd2',\n",
    "                 label='private_predicted')\n",
    "\n",
    "\n",
    "ax1.set_title('College enrollment population comparison')\n",
    "ax1.set_ylabel('Populaiton (Million)')\n",
    "ax2.set_ylabel('Populaiton (Million)')\n",
    "ax2.set_xlabel('Year')\n",
    "plt.xticks(index + bar_width, (\"2026\", '2025', '2024', '2023', \"2022\", '2021', '2020', '2019','2018', '2017', '2016'))\n",
    "ax1.legend(loc=9, bbox_to_anchor=(1.2, 0.5))\n",
    "ax2.legend(loc=9, bbox_to_anchor=(1.2, 0.5))\n",
    "\n",
    "plt.tight_layout()\n",
    "plt.show()"
   ]
  },
  {
   "cell_type": "code",
   "execution_count": null,
   "metadata": {
    "collapsed": true
   },
   "outputs": [],
   "source": []
  },
  {
   "cell_type": "code",
   "execution_count": null,
   "metadata": {
    "collapsed": true
   },
   "outputs": [],
   "source": []
  }
 ],
 "metadata": {
  "kernelspec": {
   "display_name": "Python 3",
   "language": "python",
   "name": "python3"
  },
  "language_info": {
   "codemirror_mode": {
    "name": "ipython",
    "version": 3
   },
   "file_extension": ".py",
   "mimetype": "text/x-python",
   "name": "python",
   "nbconvert_exporter": "python",
   "pygments_lexer": "ipython3",
   "version": "3.6.2"
  }
 },
 "nbformat": 4,
 "nbformat_minor": 2
}
